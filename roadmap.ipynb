{
 "cells": [
  {
   "cell_type": "markdown",
   "id": "51f4c0dc",
   "metadata": {},
   "source": [
    "# Monte Carlo Career Roadmap"
   ]
  },
  {
   "cell_type": "markdown",
   "id": "0f177ab3",
   "metadata": {},
   "source": [
    "This notebook is an attempt to adapt the career roadmap problem to the Monte Carlo Tree Search probabilistic framework. Here, we use the `mcts` package as well as a pre-built grid of all feasible career progressions."
   ]
  },
  {
   "cell_type": "markdown",
   "id": "7dfa9b6e",
   "metadata": {},
   "source": [
    "# Imports"
   ]
  },
  {
   "cell_type": "code",
   "execution_count": 1,
   "id": "20690436",
   "metadata": {},
   "outputs": [],
   "source": [
    "from mcts import mcts\n",
    "import polars as pl\n",
    "import os\n",
    "\n",
    "from pyreadr import read_r"
   ]
  },
  {
   "cell_type": "markdown",
   "id": "9072b4f2",
   "metadata": {},
   "source": [
    "# Model"
   ]
  },
  {
   "cell_type": "markdown",
   "id": "6c8a0789",
   "metadata": {},
   "source": [
    "## Career Grid"
   ]
  },
  {
   "cell_type": "markdown",
   "id": "e2ec1eaf",
   "metadata": {},
   "source": [
    "The career progression graph has been generated using R and is saved as an `.rds` file. To read it, we use the `pyreadr` package:"
   ]
  },
  {
   "cell_type": "code",
   "execution_count": 4,
   "id": "07acfe79",
   "metadata": {},
   "outputs": [
    {
     "name": "stdout",
     "output_type": "stream",
     "text": [
      "dsds\n"
     ]
    }
   ],
   "source": [
    "print(os.getenv('DSDS'))\n",
    "\n",
    "# paths = read_r('/home/Cao/storage/github/atlas/python/road/path/mcts/paths.rds')\n",
    "# paths = read_r('paths.rds')"
   ]
  },
  {
   "cell_type": "markdown",
   "id": "56f3df77",
   "metadata": {},
   "source": [
    "## Action Class"
   ]
  },
  {
   "cell_type": "markdown",
   "id": "b22af411",
   "metadata": {},
   "source": [
    "As described in the [official documentation](https://pypi.org/project/mcts/)"
   ]
  },
  {
   "cell_type": "code",
   "execution_count": null,
   "id": "3ef0fde1",
   "metadata": {},
   "outputs": [],
   "source": []
  },
  {
   "cell_type": "markdown",
   "id": "b906aed0",
   "metadata": {},
   "source": [
    "## State Class"
   ]
  },
  {
   "cell_type": "markdown",
   "id": "7e126d40",
   "metadata": {},
   "source": []
  },
  {
   "cell_type": "code",
   "execution_count": null,
   "id": "b46ab609",
   "metadata": {},
   "outputs": [],
   "source": []
  },
  {
   "cell_type": "markdown",
   "id": "c0e911a2",
   "metadata": {},
   "source": [
    "# Examples"
   ]
  },
  {
   "cell_type": "markdown",
   "id": "85a93c7d",
   "metadata": {},
   "source": [
    "## Simple Example (2 Occupations)"
   ]
  },
  {
   "cell_type": "markdown",
   "id": "a92b5e47",
   "metadata": {},
   "source": []
  },
  {
   "cell_type": "code",
   "execution_count": null,
   "id": "9662283d",
   "metadata": {},
   "outputs": [],
   "source": []
  },
  {
   "cell_type": "markdown",
   "id": "d701e486",
   "metadata": {},
   "source": [
    "## Simple Example (20 Occupations)"
   ]
  },
  {
   "cell_type": "markdown",
   "id": "5503925c",
   "metadata": {},
   "source": []
  },
  {
   "cell_type": "code",
   "execution_count": null,
   "id": "58a1341f",
   "metadata": {},
   "outputs": [],
   "source": []
  },
  {
   "cell_type": "markdown",
   "id": "49653a5c",
   "metadata": {},
   "source": [
    "## Complete Example (873 Occupations)"
   ]
  },
  {
   "cell_type": "markdown",
   "id": "8f665c86",
   "metadata": {},
   "source": []
  },
  {
   "cell_type": "code",
   "execution_count": null,
   "id": "d8be2485",
   "metadata": {},
   "outputs": [],
   "source": []
  }
 ],
 "metadata": {
  "language_info": {
   "name": "python"
  }
 },
 "nbformat": 4,
 "nbformat_minor": 5
}
