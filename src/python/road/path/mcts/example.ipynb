{
 "cells": [
  {
   "cell_type": "markdown",
   "id": "b0f6d397",
   "metadata": {},
   "source": [
    "# `mcts` package"
   ]
  },
  {
   "cell_type": "markdown",
   "id": "57d20f16",
   "metadata": {},
   "source": [
    "This is an example from the `mcts` (Monte Carlo Tree Search) package repo."
   ]
  },
  {
   "cell_type": "markdown",
   "id": "ffce8e8a",
   "metadata": {},
   "source": [
    "# imports"
   ]
  },
  {
   "cell_type": "code",
   "execution_count": null,
   "id": "64d67ea4",
   "metadata": {},
   "outputs": [],
   "source": [
    "from __future__ import division\n",
    "\n",
    "from copy import deepcopy\n",
    "from mcts import mcts\n",
    "from functools import reduce\n",
    "import operator"
   ]
  },
  {
   "cell_type": "markdown",
   "id": "92eaf7e5",
   "metadata": {},
   "source": [
    "# game implementation"
   ]
  },
  {
   "cell_type": "markdown",
   "id": "f393309b",
   "metadata": {},
   "source": [
    "## game class"
   ]
  },
  {
   "cell_type": "code",
   "execution_count": null,
   "id": "b9ff05ac",
   "metadata": {},
   "outputs": [],
   "source": [
    "class NaughtsAndCrossesState():\n",
    "    def __init__(self):\n",
    "        self.board = [[0, 0, 0], [0, 0, 0], [0, 0, 0]]\n",
    "        self.currentPlayer = 1\n",
    "\n",
    "    def getCurrentPlayer(self):\n",
    "        return self.currentPlayer\n",
    "\n",
    "    def getPossibleActions(self):\n",
    "        possibleActions = []\n",
    "        for i in range(len(self.board)):\n",
    "            for j in range(len(self.board[i])):\n",
    "                if self.board[i][j] == 0:\n",
    "                    possibleActions.append(Action(player=self.currentPlayer, x=i, y=j))\n",
    "        return possibleActions\n",
    "\n",
    "    def takeAction(self, action):\n",
    "        newState = deepcopy(self)\n",
    "        newState.board[action.x][action.y] = action.player\n",
    "        newState.currentPlayer = self.currentPlayer * -1\n",
    "        return newState\n",
    "\n",
    "    def isTerminal(self):\n",
    "        for row in self.board:\n",
    "            if abs(sum(row)) == 3:\n",
    "                return True\n",
    "        for column in list(map(list, zip(*self.board))):\n",
    "            if abs(sum(column)) == 3:\n",
    "                return True\n",
    "        for diagonal in [[self.board[i][i] for i in range(len(self.board))],\n",
    "                         [self.board[i][len(self.board) - i - 1] for i in range(len(self.board))]]:\n",
    "            if abs(sum(diagonal)) == 3:\n",
    "                return True\n",
    "        return reduce(operator.mul, sum(self.board, []), 1)\n",
    "\n",
    "    def getReward(self):\n",
    "        for row in self.board:\n",
    "            if abs(sum(row)) == 3:\n",
    "                return sum(row) / 3\n",
    "        for column in list(map(list, zip(*self.board))):\n",
    "            if abs(sum(column)) == 3:\n",
    "                return sum(column) / 3\n",
    "        for diagonal in [[self.board[i][i] for i in range(len(self.board))],\n",
    "                         [self.board[i][len(self.board) - i - 1] for i in range(len(self.board))]]:\n",
    "            if abs(sum(diagonal)) == 3:\n",
    "                return sum(diagonal) / 3\n",
    "        return False"
   ]
  },
  {
   "cell_type": "markdown",
   "id": "389d24cf",
   "metadata": {},
   "source": [
    "## action class"
   ]
  },
  {
   "cell_type": "code",
   "execution_count": null,
   "id": "d0292441",
   "metadata": {},
   "outputs": [],
   "source": [
    "class Action():\n",
    "    def __init__(self, player, x, y):\n",
    "        self.player = player\n",
    "        self.x = x\n",
    "        self.y = y\n",
    "\n",
    "    def __str__(self):\n",
    "        return str((self.x, self.y))\n",
    "\n",
    "    def __repr__(self):\n",
    "        return str(self)\n",
    "\n",
    "    def __eq__(self, other):\n",
    "        return self.__class__ == other.__class__ and self.x == other.x and self.y == other.y and self.player == other.player\n",
    "\n",
    "    def __hash__(self):\n",
    "        return hash((self.x, self.y, self.player))"
   ]
  },
  {
   "cell_type": "markdown",
   "id": "3cfd82fc",
   "metadata": {},
   "source": [
    "# example game"
   ]
  },
  {
   "cell_type": "code",
   "execution_count": null,
   "id": "c8eb1dce",
   "metadata": {},
   "outputs": [],
   "source": [
    "initialState = NaughtsAndCrossesState()\n",
    "searcher = mcts(timeLimit=1000)\n",
    "action = searcher.search(initialState=initialState)\n",
    "print(action)"
   ]
  }
 ],
 "metadata": {
  "language_info": {
   "name": "python"
  }
 },
 "nbformat": 4,
 "nbformat_minor": 5
}
