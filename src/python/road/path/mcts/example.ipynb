{
 "cells": [
  {
   "cell_type": "markdown",
   "id": "b0f6d397",
   "metadata": {},
   "source": [
    "# `mcts` package"
   ]
  },
  {
   "cell_type": "markdown",
   "id": "57d20f16",
   "metadata": {},
   "source": [
    "This is an example from the `mcts` (Monte Carlo Tree Search) package repo."
   ]
  },
  {
   "cell_type": "markdown",
   "id": "ffce8e8a",
   "metadata": {},
   "source": [
    "# Imports"
   ]
  },
  {
   "cell_type": "code",
   "execution_count": 1,
   "id": "64d67ea4",
   "metadata": {},
   "outputs": [],
   "source": [
    "from __future__ import division\n",
    "\n",
    "from copy import deepcopy\n",
    "from mcts import mcts\n",
    "from functools import reduce\n",
    "import operator"
   ]
  },
  {
   "cell_type": "markdown",
   "id": "92eaf7e5",
   "metadata": {},
   "source": [
    "# Tic Tac Toe"
   ]
  },
  {
   "cell_type": "markdown",
   "id": "1cb57875",
   "metadata": {},
   "source": [
    "The game in this example is \"naught and crosses\" (aka ``tic tac toe\", pt. \"jogo da velha\"). A player controls the \"x\" and another player controls \"o\". Each turn, they places down on the check board an \"x\" or an \"o\", respectively. If either player is able to place three of their marks consecutively in any direction (vertical, horizontal or diagonal) they win."
   ]
  },
  {
   "cell_type": "markdown",
   "id": "389d24cf",
   "metadata": {},
   "source": [
    "## Action class"
   ]
  },
  {
   "cell_type": "markdown",
   "id": "8bb84667",
   "metadata": {},
   "source": [
    "The `Action` class defines which actions a player can take (i.e. place down an \"x\" or an \"o\"). As the game of tic tac toe is played on a 2d grid, an action entails choosing a position on the horizontal (`x`) and vertical (`y`) axes in which to place one's mark (`player`)."
   ]
  },
  {
   "cell_type": "code",
   "execution_count": null,
   "id": "d0292441",
   "metadata": {},
   "outputs": [],
   "source": [
    "class Action():\n",
    "    def __init__(self, player, x, y):\n",
    "        self.player = player\n",
    "        self.x = x\n",
    "        self.y = y\n",
    "\n",
    "    def __str__(self):\n",
    "        return str((self.x, self.y))\n",
    "\n",
    "    def __repr__(self):\n",
    "        return str(self)\n",
    "\n",
    "    def __eq__(self, other):\n",
    "        return self.__class__ == other.__class__ and self.x == other.x and self.y == other.y and self.player == other.player\n",
    "\n",
    "    def __hash__(self):\n",
    "        return hash((self.x, self.y, self.player))"
   ]
  },
  {
   "cell_type": "markdown",
   "id": "f393309b",
   "metadata": {},
   "source": [
    "## Game class"
   ]
  },
  {
   "cell_type": "markdown",
   "id": "03dbe80c",
   "metadata": {},
   "source": [
    "The game class keeps track of the game's current state and "
   ]
  },
  {
   "cell_type": "code",
   "execution_count": 3,
   "id": "b9ff05ac",
   "metadata": {},
   "outputs": [],
   "source": [
    "class NaughtsAndCrossesState():\n",
    "    def __init__(self):\n",
    "        self.board = [[0, 0, 0], [0, 0, 0], [0, 0, 0]]\n",
    "        self.currentPlayer = 1\n",
    "\n",
    "    def getCurrentPlayer(self):\n",
    "        return self.currentPlayer\n",
    "\n",
    "    def getPossibleActions(self):\n",
    "        possibleActions = []\n",
    "        for i in range(len(self.board)):\n",
    "            for j in range(len(self.board[i])):\n",
    "                if self.board[i][j] == 0:\n",
    "                    possibleActions.append(Action(player=self.currentPlayer, x=i, y=j))\n",
    "        return possibleActions\n",
    "\n",
    "    def takeAction(self, action):\n",
    "        newState = deepcopy(self)\n",
    "        newState.board[action.x][action.y] = action.player\n",
    "        newState.currentPlayer = self.currentPlayer * -1\n",
    "        return newState\n",
    "\n",
    "    def isTerminal(self):\n",
    "        for row in self.board:\n",
    "            if abs(sum(row)) == 3:\n",
    "                return True\n",
    "        for column in list(map(list, zip(*self.board))):\n",
    "            if abs(sum(column)) == 3:\n",
    "                return True\n",
    "        for diagonal in [[self.board[i][i] for i in range(len(self.board))],\n",
    "                         [self.board[i][len(self.board) - i - 1] for i in range(len(self.board))]]:\n",
    "            if abs(sum(diagonal)) == 3:\n",
    "                return True\n",
    "        return reduce(operator.mul, sum(self.board, []), 1)\n",
    "\n",
    "    def getReward(self):\n",
    "        for row in self.board:\n",
    "            if abs(sum(row)) == 3:\n",
    "                return sum(row) / 3\n",
    "        for column in list(map(list, zip(*self.board))):\n",
    "            if abs(sum(column)) == 3:\n",
    "                return sum(column) / 3\n",
    "        for diagonal in [[self.board[i][i] for i in range(len(self.board))],\n",
    "                         [self.board[i][len(self.board) - i - 1] for i in range(len(self.board))]]:\n",
    "            if abs(sum(diagonal)) == 3:\n",
    "                return sum(diagonal) / 3\n",
    "        return False"
   ]
  },
  {
   "cell_type": "markdown",
   "id": "3cfd82fc",
   "metadata": {},
   "source": [
    "# Example game"
   ]
  },
  {
   "cell_type": "code",
   "execution_count": 4,
   "id": "c8eb1dce",
   "metadata": {},
   "outputs": [
    {
     "ename": "TypeError",
     "evalue": "unhashable type: 'Action'",
     "output_type": "error",
     "traceback": [
      "\u001b[0;31m---------------------------------------------------------------------------\u001b[0m\n",
      "\u001b[0;31mTypeError\u001b[0m                                 Traceback (most recent call last)\n",
      "Cell \u001b[0;32mIn[4], line 3\u001b[0m\n",
      "\u001b[1;32m      1\u001b[0m initialState \u001b[38;5;241m=\u001b[39m NaughtsAndCrossesState()\n",
      "\u001b[1;32m      2\u001b[0m searcher \u001b[38;5;241m=\u001b[39m mcts(timeLimit\u001b[38;5;241m=\u001b[39m\u001b[38;5;241m1000\u001b[39m)\n",
      "\u001b[0;32m----> 3\u001b[0m action \u001b[38;5;241m=\u001b[39m \u001b[43msearcher\u001b[49m\u001b[38;5;241;43m.\u001b[39;49m\u001b[43msearch\u001b[49m\u001b[43m(\u001b[49m\u001b[43minitialState\u001b[49m\u001b[38;5;241;43m=\u001b[39;49m\u001b[43minitialState\u001b[49m\u001b[43m)\u001b[49m\n",
      "\u001b[1;32m      4\u001b[0m \u001b[38;5;28mprint\u001b[39m(action)\n",
      "\n",
      "File \u001b[0;32m~/miniconda3/envs/atlas/lib/python3.13/site-packages/mcts.py:55\u001b[0m, in \u001b[0;36mmcts.search\u001b[0;34m(self, initialState)\u001b[0m\n",
      "\u001b[1;32m     53\u001b[0m     timeLimit \u001b[38;5;241m=\u001b[39m time\u001b[38;5;241m.\u001b[39mtime() \u001b[38;5;241m+\u001b[39m \u001b[38;5;28mself\u001b[39m\u001b[38;5;241m.\u001b[39mtimeLimit \u001b[38;5;241m/\u001b[39m \u001b[38;5;241m1000\u001b[39m\n",
      "\u001b[1;32m     54\u001b[0m     \u001b[38;5;28;01mwhile\u001b[39;00m time\u001b[38;5;241m.\u001b[39mtime() \u001b[38;5;241m<\u001b[39m timeLimit:\n",
      "\u001b[0;32m---> 55\u001b[0m         \u001b[38;5;28;43mself\u001b[39;49m\u001b[38;5;241;43m.\u001b[39;49m\u001b[43mexecuteRound\u001b[49m\u001b[43m(\u001b[49m\u001b[43m)\u001b[49m\n",
      "\u001b[1;32m     56\u001b[0m \u001b[38;5;28;01melse\u001b[39;00m:\n",
      "\u001b[1;32m     57\u001b[0m     \u001b[38;5;28;01mfor\u001b[39;00m i \u001b[38;5;129;01min\u001b[39;00m \u001b[38;5;28mrange\u001b[39m(\u001b[38;5;28mself\u001b[39m\u001b[38;5;241m.\u001b[39msearchLimit):\n",
      "\n",
      "File \u001b[0;32m~/miniconda3/envs/atlas/lib/python3.13/site-packages/mcts.py:64\u001b[0m, in \u001b[0;36mmcts.executeRound\u001b[0;34m(self)\u001b[0m\n",
      "\u001b[1;32m     63\u001b[0m \u001b[38;5;28;01mdef\u001b[39;00m\u001b[38;5;250m \u001b[39m\u001b[38;5;21mexecuteRound\u001b[39m(\u001b[38;5;28mself\u001b[39m):\n",
      "\u001b[0;32m---> 64\u001b[0m     node \u001b[38;5;241m=\u001b[39m \u001b[38;5;28;43mself\u001b[39;49m\u001b[38;5;241;43m.\u001b[39;49m\u001b[43mselectNode\u001b[49m\u001b[43m(\u001b[49m\u001b[38;5;28;43mself\u001b[39;49m\u001b[38;5;241;43m.\u001b[39;49m\u001b[43mroot\u001b[49m\u001b[43m)\u001b[49m\n",
      "\u001b[1;32m     65\u001b[0m     reward \u001b[38;5;241m=\u001b[39m \u001b[38;5;28mself\u001b[39m\u001b[38;5;241m.\u001b[39mrollout(node\u001b[38;5;241m.\u001b[39mstate)\n",
      "\u001b[1;32m     66\u001b[0m     \u001b[38;5;28mself\u001b[39m\u001b[38;5;241m.\u001b[39mbackpropogate(node, reward)\n",
      "\n",
      "File \u001b[0;32m~/miniconda3/envs/atlas/lib/python3.13/site-packages/mcts.py:73\u001b[0m, in \u001b[0;36mmcts.selectNode\u001b[0;34m(self, node)\u001b[0m\n",
      "\u001b[1;32m     71\u001b[0m         node \u001b[38;5;241m=\u001b[39m \u001b[38;5;28mself\u001b[39m\u001b[38;5;241m.\u001b[39mgetBestChild(node, \u001b[38;5;28mself\u001b[39m\u001b[38;5;241m.\u001b[39mexplorationConstant)\n",
      "\u001b[1;32m     72\u001b[0m     \u001b[38;5;28;01melse\u001b[39;00m:\n",
      "\u001b[0;32m---> 73\u001b[0m         \u001b[38;5;28;01mreturn\u001b[39;00m \u001b[38;5;28;43mself\u001b[39;49m\u001b[38;5;241;43m.\u001b[39;49m\u001b[43mexpand\u001b[49m\u001b[43m(\u001b[49m\u001b[43mnode\u001b[49m\u001b[43m)\u001b[49m\n",
      "\u001b[1;32m     74\u001b[0m \u001b[38;5;28;01mreturn\u001b[39;00m node\n",
      "\n",
      "File \u001b[0;32m~/miniconda3/envs/atlas/lib/python3.13/site-packages/mcts.py:79\u001b[0m, in \u001b[0;36mmcts.expand\u001b[0;34m(self, node)\u001b[0m\n",
      "\u001b[1;32m     77\u001b[0m actions \u001b[38;5;241m=\u001b[39m node\u001b[38;5;241m.\u001b[39mstate\u001b[38;5;241m.\u001b[39mgetPossibleActions()\n",
      "\u001b[1;32m     78\u001b[0m \u001b[38;5;28;01mfor\u001b[39;00m action \u001b[38;5;129;01min\u001b[39;00m actions:\n",
      "\u001b[0;32m---> 79\u001b[0m     \u001b[38;5;28;01mif\u001b[39;00m \u001b[43maction\u001b[49m\u001b[43m \u001b[49m\u001b[38;5;129;43;01mnot\u001b[39;49;00m\u001b[43m \u001b[49m\u001b[38;5;129;43;01min\u001b[39;49;00m\u001b[43m \u001b[49m\u001b[43mnode\u001b[49m\u001b[38;5;241;43m.\u001b[39;49m\u001b[43mchildren\u001b[49m\u001b[38;5;241;43m.\u001b[39;49m\u001b[43mkeys\u001b[49m\u001b[43m(\u001b[49m\u001b[43m)\u001b[49m:\n",
      "\u001b[1;32m     80\u001b[0m         newNode \u001b[38;5;241m=\u001b[39m treeNode(node\u001b[38;5;241m.\u001b[39mstate\u001b[38;5;241m.\u001b[39mtakeAction(action), node)\n",
      "\u001b[1;32m     81\u001b[0m         node\u001b[38;5;241m.\u001b[39mchildren[action] \u001b[38;5;241m=\u001b[39m newNode\n",
      "\n",
      "\u001b[0;31mTypeError\u001b[0m: unhashable type: 'Action'"
     ]
    }
   ],
   "source": [
    "initialState = NaughtsAndCrossesState()\n",
    "searcher = mcts(timeLimit=1000)\n",
    "action = searcher.search(initialState=initialState)\n",
    "print(action)"
   ]
  }
 ],
 "metadata": {
  "language_info": {
   "name": "python"
  }
 },
 "nbformat": 4,
 "nbformat_minor": 5
}
