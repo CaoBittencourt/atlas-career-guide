{
 "cells": [
  {
   "cell_type": "markdown",
   "id": "b0f6d397",
   "metadata": {},
   "source": [
    "# `mcts` package"
   ]
  },
  {
   "cell_type": "markdown",
   "id": "57d20f16",
   "metadata": {},
   "source": [
    "This is an example from the `mcts` (Monte Carlo Tree Search) package repo."
   ]
  },
  {
   "cell_type": "markdown",
   "id": "ffce8e8a",
   "metadata": {},
   "source": [
    "# Imports"
   ]
  },
  {
   "cell_type": "code",
   "execution_count": null,
   "id": "64d67ea4",
   "metadata": {},
   "outputs": [],
   "source": [
    "from __future__ import division\n",
    "\n",
    "from copy import deepcopy\n",
    "from mcts import mcts\n",
    "from functools import reduce\n",
    "import operator\n",
    "\n",
    "from pandas import DataFrame"
   ]
  },
  {
   "cell_type": "markdown",
   "id": "92eaf7e5",
   "metadata": {},
   "source": [
    "# Tic Tac Toe"
   ]
  },
  {
   "cell_type": "markdown",
   "id": "1cb57875",
   "metadata": {},
   "source": [
    "The game in this example is \"naught and crosses\" (aka ``tic tac toe\", pt. \"jogo da velha\"). The game is played on a 3 by 3 grid, where players place down one of two marks each turn. One player controls the \"x\" mark and another controls \"o\" mark. Each turn, they place down onto the check board either an \"x\" or an \"o\", respectively. If any of them is able to place three of their marks consecutively in any direction (vertical, horizontal or diagonal) they win."
   ]
  },
  {
   "cell_type": "markdown",
   "id": "389d24cf",
   "metadata": {},
   "source": [
    "## Action class"
   ]
  },
  {
   "cell_type": "markdown",
   "id": "8bb84667",
   "metadata": {},
   "source": [
    "The `Action` class defines which actions a player can take (i.e. place down an \"x\" or an \"o\"). As the game of tic tac toe is played on a 2d grid, an action entails choosing a position on the horizontal (`x`) and vertical (`y`) axes in which to place one's mark (`player`)."
   ]
  },
  {
   "cell_type": "code",
   "execution_count": null,
   "id": "d0292441",
   "metadata": {},
   "outputs": [],
   "source": [
    "class Action():\n",
    "    def __init__(self, player, x, y):\n",
    "        self.player = player\n",
    "        self.x = x\n",
    "        self.y = y\n",
    "\n",
    "    def __str__(self):\n",
    "        return str((self.x, self.y))\n",
    "\n",
    "    def __repr__(self):\n",
    "        return str(self)\n",
    "\n",
    "    def __eq__(self, other):\n",
    "        return self.__class__ == other.__class__ and self.x == other.x and self.y == other.y and self.player == other.player\n",
    "\n",
    "    def __hash__(self):\n",
    "        return hash((self.x, self.y, self.player))"
   ]
  },
  {
   "cell_type": "markdown",
   "id": "c24d53d0",
   "metadata": {},
   "source": [
    "Class methods:\n",
    "- `__init__`: instantiates an action object\n",
    "- `__str__`: converts an action's position (i.e. x and y coordinates) to a character string (`str`) representation\n",
    "- `__repr__`: converts the action object itself to a character string (`str`) representation\n",
    "- `__eq__`: equality method for determining if two actions are the same\n",
    "- `__hash__`: retrieve the object's hash value (i.e. its id as an `int`)"
   ]
  },
  {
   "cell_type": "markdown",
   "id": "72069eaa",
   "metadata": {},
   "source": [
    "For instance, `Action(1,0,0)` means player 1 places their mark on the grid's (x,y) = (0,0) coordinate."
   ]
  },
  {
   "cell_type": "markdown",
   "id": "f393309b",
   "metadata": {},
   "source": [
    "## Game class"
   ]
  },
  {
   "cell_type": "markdown",
   "id": "03dbe80c",
   "metadata": {},
   "source": [
    "The game class keeps track of the game's current state and defines the rules for choosing a player's next action."
   ]
  },
  {
   "cell_type": "code",
   "execution_count": null,
   "id": "b9ff05ac",
   "metadata": {},
   "outputs": [],
   "source": [
    "class NaughtsAndCrossesState():\n",
    "    def __init__(self):\n",
    "        self.board = [[0, 0, 0], [0, 0, 0], [0, 0, 0]]\n",
    "        self.currentPlayer = 1\n",
    "\n",
    "    def getCurrentPlayer(self):\n",
    "        return self.currentPlayer\n",
    "\n",
    "    def getPossibleActions(self):\n",
    "        possibleActions = []\n",
    "        for i in range(len(self.board)):\n",
    "            for j in range(len(self.board[i])):\n",
    "                if self.board[i][j] == 0:\n",
    "                    # create an action object for each action\n",
    "                    possibleActions.append(Action(player=self.currentPlayer, x=i, y=j))\n",
    "        return possibleActions\n",
    "\n",
    "    def takeAction(self, action):\n",
    "        newState = deepcopy(self)\n",
    "        newState.board[action.x][action.y] = action.player\n",
    "        newState.currentPlayer = self.currentPlayer * -1\n",
    "        return newState\n",
    "\n",
    "    def isTerminal(self):\n",
    "        for row in self.board:\n",
    "            if abs(sum(row)) == 3:\n",
    "                return True\n",
    "        for column in list(map(list, zip(*self.board))):\n",
    "            if abs(sum(column)) == 3:\n",
    "                return True\n",
    "        for diagonal in [[self.board[i][i] for i in range(len(self.board))],\n",
    "                         [self.board[i][len(self.board) - i - 1] for i in range(len(self.board))]]:\n",
    "            if abs(sum(diagonal)) == 3:\n",
    "                return True\n",
    "        return reduce(operator.mul, sum(self.board, []), 1)\n",
    "\n",
    "    def getReward(self):\n",
    "        for row in self.board:\n",
    "            if abs(sum(row)) == 3:\n",
    "                return sum(row) / 3\n",
    "        for column in list(map(list, zip(*self.board))):\n",
    "            if abs(sum(column)) == 3:\n",
    "                return sum(column) / 3\n",
    "        for diagonal in [[self.board[i][i] for i in range(len(self.board))],\n",
    "                         [self.board[i][len(self.board) - i - 1] for i in range(len(self.board))]]:\n",
    "            if abs(sum(diagonal)) == 3:\n",
    "                return sum(diagonal) / 3\n",
    "        return False"
   ]
  },
  {
   "cell_type": "markdown",
   "id": "c7a04e7b",
   "metadata": {},
   "source": [
    "Class methods:\n",
    "- `__init__`: instantiates a game state object and defines the board and the current player\n",
    "- `getCurrentPlayer`: retrieves the current player's id \n",
    "- `getPossibleActions`: generates a list of feasible actions (i.e. any non-occupied square)\n",
    "- `takeAction`: given an action object, places down its player's mark (`action.player`) onto the (`action.x`,`action.y`) coordinates; then updates the current player and returns the new state (new board and new current player)\n",
    "- `isTerminal`: checks whether a player has own the game (i.e. placed three consecutive marks)\n",
    "- `getReward`: returns `1` if player `1` has won or `-1` if player `-1` has won"
   ]
  },
  {
   "cell_type": "markdown",
   "id": "55230730",
   "metadata": {},
   "source": [
    "## mcts class"
   ]
  },
  {
   "cell_type": "markdown",
   "id": "8759ed0b",
   "metadata": {},
   "source": [
    "Finally, the `mcts` \"searcher\" class optimizes a player's next action, given an initial state object (i.e. the \"game\" class above)."
   ]
  },
  {
   "cell_type": "markdown",
   "id": "3cfd82fc",
   "metadata": {},
   "source": [
    "# Example game"
   ]
  },
  {
   "cell_type": "markdown",
   "id": "f91d6e3f",
   "metadata": {},
   "source": [
    "Player 1 chooses their action:"
   ]
  },
  {
   "cell_type": "code",
   "execution_count": null,
   "id": "c8eb1dce",
   "metadata": {},
   "outputs": [],
   "source": [
    "gameState = NaughtsAndCrossesState()\n",
    "print(f\"current player: {gameState.currentPlayer}\")\n",
    "searcher = mcts(timeLimit=1000)\n",
    "action = searcher.search(initialState=gameState)\n",
    "print(f\"feasible actions: place mark on {gameState.getPossibleActions()} squares\")\n",
    "print(f\"player's action: place mark on {action} square\")"
   ]
  },
  {
   "cell_type": "markdown",
   "id": "2cf8fd2b",
   "metadata": {},
   "source": [
    "Player 1 takes their action:"
   ]
  },
  {
   "cell_type": "code",
   "execution_count": null,
   "id": "5de9bf72",
   "metadata": {},
   "outputs": [],
   "source": [
    "print(f\"current player: {gameState.currentPlayer}\")\n",
    "gameState = gameState.takeAction(action)\n",
    "print(f\"\"\"current board:\n",
    "{DataFrame(gameState.board)}\n",
    "\"\"\"\n",
    ")\n",
    "print(f\"current player: {gameState.currentPlayer}\")"
   ]
  },
  {
   "cell_type": "markdown",
   "id": "a74cc012",
   "metadata": {},
   "source": [
    "Player 2 chooses their action:"
   ]
  },
  {
   "cell_type": "code",
   "execution_count": null,
   "id": "59e0ce39",
   "metadata": {},
   "outputs": [],
   "source": [
    "print(f\"current player: {gameState.currentPlayer}\")\n",
    "searcher = mcts(timeLimit=1000)\n",
    "action = searcher.search(initialState=gameState)\n",
    "print(f\"feasible actions: place mark on {gameState.getPossibleActions()} squares\")\n",
    "print(f\"player's action: place mark on {action} square\")"
   ]
  },
  {
   "cell_type": "markdown",
   "id": "a516ede0",
   "metadata": {},
   "source": [
    "Player 2 takes their action:"
   ]
  },
  {
   "cell_type": "code",
   "execution_count": null,
   "id": "608b9a2f",
   "metadata": {},
   "outputs": [],
   "source": [
    "print(f\"current player: {gameState.currentPlayer}\")\n",
    "gameState = gameState.takeAction(action)\n",
    "print(f\"\"\"current board:\n",
    "{DataFrame(gameState.board)}\n",
    "\"\"\"\n",
    ")\n",
    "print(f\"current player: {gameState.currentPlayer}\")"
   ]
  },
  {
   "cell_type": "markdown",
   "id": "f6317df8",
   "metadata": {},
   "source": [
    "And so on and so forth."
   ]
  },
  {
   "cell_type": "markdown",
   "id": "f444afa8",
   "metadata": {},
   "source": [
    "Now, automatically,"
   ]
  },
  {
   "cell_type": "code",
   "execution_count": null,
   "id": "ac85b91a",
   "metadata": {},
   "outputs": [],
   "source": [
    "timeMs = 1000\n",
    "gameState = NaughtsAndCrossesState()\n",
    "\n",
    "while(len(gameState.getPossibleActions())):\n",
    "    print(len(gameState.getPossibleActions()))\n",
    "    print(f\"current player: {gameState.currentPlayer}\")\n",
    "    print(f\"\"\"current board:\n",
    "        {DataFrame(gameState.board)}\n",
    "        \"\"\"\n",
    "    )\n",
    "    gameState = gameState.takeAction(mcts(timeMs).search(gameState))\n",
    "\n",
    "print(\"game ended.\")"
   ]
  },
  {
   "cell_type": "code",
   "execution_count": 29,
   "id": "a30fcfe8",
   "metadata": {},
   "outputs": [
    {
     "data": {
      "text/plain": [
       "[(0, 0), (0, 1), (2, 1), (2, 2)]"
      ]
     },
     "execution_count": null,
     "metadata": {},
     "output_type": "execute_result"
    }
   ],
   "source": [
    "gameState.getPossibleActions()"
   ]
  }
 ],
 "metadata": {
  "language_info": {
   "name": "python"
  }
 },
 "nbformat": 4,
 "nbformat_minor": 5
}
