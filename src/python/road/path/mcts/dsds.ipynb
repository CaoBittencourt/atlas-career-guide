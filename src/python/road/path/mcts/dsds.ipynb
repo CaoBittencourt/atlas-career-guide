{
 "cells": [
  {
   "cell_type": "markdown",
   "id": "d60952bc",
   "metadata": {},
   "source": [
    "# `mcts-simple` package"
   ]
  },
  {
   "cell_type": "markdown",
   "id": "c492dbb6",
   "metadata": {},
   "source": [
    "In this notebook, we explore the `mcts-simple` python package for Monte Carlo Tree Search and how to apply it for creating a probabilistic career roadmap."
   ]
  },
  {
   "cell_type": "code",
   "execution_count": null,
   "id": "21d60c8f",
   "metadata": {},
   "outputs": [],
   "source": [
    "import mcts_simple.mcts as ms\n",
    "import mcts as mc\n"
   ]
  }
 ],
 "metadata": {
  "kernelspec": {
   "display_name": "atlas",
   "language": "python",
   "name": "python3"
  },
  "language_info": {
   "name": "python"
  }
 },
 "nbformat": 4,
 "nbformat_minor": 5
}
