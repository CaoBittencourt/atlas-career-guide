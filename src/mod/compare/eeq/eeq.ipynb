{
 "cells": [
  {
   "cell_type": "markdown",
   "metadata": {},
   "source": [
    "# `eeq`"
   ]
  },
  {
   "cell_type": "markdown",
   "metadata": {},
   "source": [
    "$\n",
    "\\begin{gather}\n",
    "s_{kq}^{\\theta} := \n",
    "\\cos\\theta_{kq} := \n",
    "\\frac{\n",
    "    \\boldsymbol{\\ddot{a}_{k} \\ \\cdot \\boldsymbol{\\ddot{a}_{q}}}\n",
    "}{\n",
    "    \\left\\lVert{\\boldsymbol{\\ddot{a}_{k}}}\\right\\lVert\n",
    "    \\left\\lVert{\\boldsymbol{\\ddot{a}_{q}}}\\right\\lVert\n",
    "}\n",
    ":=\n",
    "\\frac{\n",
    "    \\sum_{i=1}^{m} \\ddot{a}_{i}^{k} \\ddot{a}_{i}^{q}\n",
    "}{\n",
    "    \\sqrt{\n",
    "        \\sum_{i=1}^{m} \\ddot{a}_{i}^{k} \\ddot{a}_{i}^{k}\n",
    "    }\n",
    "    \\sqrt{\n",
    "        \\sum_{i=1}^{m} \\ddot{a}_{i}^{k} \\ddot{a}_{i}^{k}\n",
    "    }\n",
    "}\n",
    "\\in\n",
    "[0,1]\n",
    ".\n",
    "\\end{gather}\n",
    "$"
   ]
  }
 ],
 "metadata": {
  "language_info": {
   "name": "plaintext"
  }
 },
 "nbformat": 4,
 "nbformat_minor": 2
}
